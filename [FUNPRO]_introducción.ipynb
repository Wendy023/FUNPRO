{
  "nbformat": 4,
  "nbformat_minor": 0,
  "metadata": {
    "colab": {
      "provenance": []
    },
    "kernelspec": {
      "name": "python3",
      "display_name": "Python 3"
    },
    "language_info": {
      "name": "python"
    }
  },
  "cells": [
    {
      "cell_type": "markdown",
      "source": [
        "COMANDOS\n",
        "\n",
        "1. Imprimir: print()\n",
        "2. Lee, imprime y asigna: variable=input()\n",
        "3. int(input()): Convierte de caracter a entero\n",
        "4. Float(input()): Convierte de caracter a decimal"
      ],
      "metadata": {
        "id": "SGhDGoAxNTHL"
      }
    },
    {
      "cell_type": "code",
      "source": [
        "#leer código del estudiante\n",
        "cod=input(\"ingresé el código del estudiante: \")"
      ],
      "metadata": {
        "colab": {
          "base_uri": "https://localhost:8080/"
        },
        "id": "2tiS1-H4N22x",
        "outputId": "644c49c2-5622-40ed-d0d1-52e670b1c844"
      },
      "execution_count": null,
      "outputs": [
        {
          "name": "stdout",
          "output_type": "stream",
          "text": [
            "ingresé el código del estudiante: U00183448\n"
          ]
        }
      ]
    },
    {
      "cell_type": "code",
      "source": [
        "#Leer cinco calificaciones\n",
        "nota1=float(input(\"ingrese nota1: \"))\n",
        "nota2=float(input(\"ingrese nota2: \"))\n",
        "nota3=float(input(\"ingrese nota3: \"))\n",
        "nota4=float(input(\"ingrese nota4: \"))\n",
        "nota5=float(input(\"ingrese nota5: \"))"
      ],
      "metadata": {
        "colab": {
          "base_uri": "https://localhost:8080/"
        },
        "id": "_1TJQGw1OLbv",
        "outputId": "bc8f0ab4-3a14-4fa0-ce17-4393db8b5924"
      },
      "execution_count": null,
      "outputs": [
        {
          "name": "stdout",
          "output_type": "stream",
          "text": [
            "ingresé nota1: 3.5\n",
            "ingresé nota2: 2.5\n",
            "ingresé nota3: 4\n",
            "ingresé nota4: 3.1\n",
            "ingresé nota5: 5\n"
          ]
        }
      ]
    },
    {
      "cell_type": "code",
      "source": [
        "promedio=(nota1+nota2+nota3+nota4+nota5)/5"
      ],
      "metadata": {
        "id": "09mrBwupPQUD"
      },
      "execution_count": null,
      "outputs": []
    },
    {
      "cell_type": "code",
      "source": [
        "print(f\"código del estudiante: {cod}\\nPromedio: {promedio}\")"
      ],
      "metadata": {
        "colab": {
          "base_uri": "https://localhost:8080/"
        },
        "id": "iJcAR9EtRge3",
        "outputId": "22e9e85f-2542-4453-a839-9656723dff8b"
      },
      "execution_count": null,
      "outputs": [
        {
          "output_type": "stream",
          "name": "stdout",
          "text": [
            "código del estudiante: U00183448\n",
            "Promedio: 3.62\n"
          ]
        }
      ]
    },
    {
      "cell_type": "markdown",
      "source": [
        "Calcular el cuadrado y elcubo de un número entero positivp NUM"
      ],
      "metadata": {
        "id": "nNZll-TyVw8_"
      }
    },
    {
      "cell_type": "code",
      "source": [
        "#Solicitar un número entero positivo\n",
        "NUM = int(input(\"ingere un número entero positivo: \"))"
      ],
      "metadata": {
        "colab": {
          "base_uri": "https://localhost:8080/"
        },
        "id": "WaqEF04rYKfd",
        "outputId": "dd46d152-e08c-4a28-a156-5824e19339fb"
      },
      "execution_count": 32,
      "outputs": [
        {
          "name": "stdout",
          "output_type": "stream",
          "text": [
            "ingere un número entero positivo: 6\n"
          ]
        }
      ]
    },
    {
      "cell_type": "code",
      "source": [
        "#Calcular el cuadrado y cubo\n",
        "cuadrado=NUM**2\n",
        "cubo=NUM**3"
      ],
      "metadata": {
        "id": "Kv4SGqUbYjkd"
      },
      "execution_count": 34,
      "outputs": []
    },
    {
      "cell_type": "code",
      "source": [
        "#Imprimir resultado\n",
        "print(f\"El cuadrado de {NUM} es {cuadrado}\\nEl cubo de {NUM} es {cubo}\")"
      ],
      "metadata": {
        "colab": {
          "base_uri": "https://localhost:8080/"
        },
        "id": "XchU8UCTZWSk",
        "outputId": "a3b0529f-9993-4059-c0c6-4945705c43d4"
      },
      "execution_count": 35,
      "outputs": [
        {
          "output_type": "stream",
          "name": "stdout",
          "text": [
            "El cuadrado de 6 es 36\n",
            "El cubo de 6 es 216\n"
          ]
        }
      ]
    },
    {
      "cell_type": "markdown",
      "source": [
        "Perimetro y superficie de un rectángulo"
      ],
      "metadata": {
        "id": "4XHcP3R1boDD"
      }
    },
    {
      "cell_type": "code",
      "source": [
        "#Solicitar la base y altura del rectángulo\n",
        "base=float(input(\"Ingrese la base del rectángulo: \"))\n",
        "altura=float(input(\"Ingrese la altura del rectángulo: \"))"
      ],
      "metadata": {
        "colab": {
          "base_uri": "https://localhost:8080/"
        },
        "id": "rRSmdB4sbx0S",
        "outputId": "3a30b9e2-458b-43ff-a912-65b076f3e03a"
      },
      "execution_count": 36,
      "outputs": [
        {
          "name": "stdout",
          "output_type": "stream",
          "text": [
            "Ingrese la base del rectángulo: 4.3\n",
            "Ingrese la altura del rectángulo: 6\n"
          ]
        }
      ]
    },
    {
      "cell_type": "code",
      "source": [
        "#Calcular perímetro y superficie\n",
        "perimetro=2*(base+altura)\n",
        "superficie=base*altura"
      ],
      "metadata": {
        "id": "-Tb7Zy5ocjFq"
      },
      "execution_count": 37,
      "outputs": []
    },
    {
      "cell_type": "code",
      "source": [
        "#Imprimir resultado\n",
        "print(f\"El perímetro del rectángulo es {perimetro}\\nLa superficie del rectángulo es {superficie}\")"
      ],
      "metadata": {
        "colab": {
          "base_uri": "https://localhost:8080/"
        },
        "id": "HNRd0RNxdFfB",
        "outputId": "a404b2ed-1e24-4dd1-8c2c-9ca537616d96"
      },
      "execution_count": 38,
      "outputs": [
        {
          "output_type": "stream",
          "name": "stdout",
          "text": [
            "El perímetro del rectángulo es 20.6\n",
            "La superficie del rectángulo es 25.799999999999997\n"
          ]
        }
      ]
    },
    {
      "cell_type": "markdown",
      "source": [
        "Cambio que se debe entregar"
      ],
      "metadata": {
        "id": "zPAXID-tdg9J"
      }
    },
    {
      "cell_type": "code",
      "source": [
        "#Solicitar el costo del artículo\n",
        "costo=float(input(\"Ingrese el costo del artículo: \"))"
      ],
      "metadata": {
        "colab": {
          "base_uri": "https://localhost:8080/"
        },
        "id": "xd9Cp3yFdlqB",
        "outputId": "8bfeb53b-eb0d-42b6-968c-efb8d7aae7dd"
      },
      "execution_count": 43,
      "outputs": [
        {
          "name": "stdout",
          "output_type": "stream",
          "text": [
            "Ingrese el costo del artículo: 100.000\n"
          ]
        }
      ]
    },
    {
      "cell_type": "code",
      "source": [
        "#Solicitar el dinero entregado por el cliente\n",
        "dinero=float(input(\"Ingrese el dinero entregado por el cliente: \"))"
      ],
      "metadata": {
        "colab": {
          "base_uri": "https://localhost:8080/"
        },
        "id": "gsM3bu5Ed2UQ",
        "outputId": "094642d4-b71f-4adf-96f4-4466ec356e65"
      },
      "execution_count": 44,
      "outputs": [
        {
          "name": "stdout",
          "output_type": "stream",
          "text": [
            "Ingrese el dinero entregado por el cliente: 200.000\n"
          ]
        }
      ]
    },
    {
      "cell_type": "code",
      "source": [
        "#Calcular el cambio\n",
        "cambio=dinero-costo"
      ],
      "metadata": {
        "id": "EiDVFBloeHAx"
      },
      "execution_count": 45,
      "outputs": []
    },
    {
      "cell_type": "code",
      "source": [
        "#Imprimir cambio a entregar\n",
        "print(f\"El cambio a entregar es {cambio}\")"
      ],
      "metadata": {
        "colab": {
          "base_uri": "https://localhost:8080/"
        },
        "id": "h4-Nw0nbekv5",
        "outputId": "585bf244-3085-43de-dfb2-92594d38174f"
      },
      "execution_count": 46,
      "outputs": [
        {
          "output_type": "stream",
          "name": "stdout",
          "text": [
            "El cambio a entregar es 100.0\n"
          ]
        }
      ]
    },
    {
      "cell_type": "markdown",
      "source": [
        "Superficie de un triángulo"
      ],
      "metadata": {
        "id": "pSvqCY69e3yH"
      }
    },
    {
      "cell_type": "code",
      "source": [
        "#Solicitar la base y altura del triángulo\n",
        "base=float(input(\"Ingrese la base del triángulo: \"))\n",
        "altura=float(input(\"Ingrese la altura del triángulo: \"))"
      ],
      "metadata": {
        "colab": {
          "base_uri": "https://localhost:8080/"
        },
        "id": "F7k9l1ehfAYo",
        "outputId": "18d35f83-5512-4e79-c863-805eed8c1a74"
      },
      "execution_count": 47,
      "outputs": [
        {
          "name": "stdout",
          "output_type": "stream",
          "text": [
            "Ingrese la base del triángulo: 38.9\n",
            "Ingrese la altura del triángulo: 30\n"
          ]
        }
      ]
    },
    {
      "cell_type": "code",
      "source": [
        "#Calcular la superficie\n",
        "superficie=(base*altura)/2"
      ],
      "metadata": {
        "id": "F8ft88OUfP6_"
      },
      "execution_count": 48,
      "outputs": []
    },
    {
      "cell_type": "code",
      "source": [
        "#Imprimir la superficie del triángulo\n",
        "print(f\"La superficie del triángulo es {superficie}\")"
      ],
      "metadata": {
        "colab": {
          "base_uri": "https://localhost:8080/"
        },
        "id": "iIVWTawVfYMv",
        "outputId": "f343b68a-cfd9-43b6-a8d3-afc08f8d5bae"
      },
      "execution_count": 49,
      "outputs": [
        {
          "output_type": "stream",
          "name": "stdout",
          "text": [
            "La superficie del triángulo es 583.5\n"
          ]
        }
      ]
    },
    {
      "cell_type": "markdown",
      "source": [
        "Segundos que hay en determinado número de días"
      ],
      "metadata": {
        "id": "g61XUMTlfoLf"
      }
    },
    {
      "cell_type": "code",
      "source": [
        "#Soliciar el número de días\n",
        "dias=int(input(\"Ingrese el número de días: \"))"
      ],
      "metadata": {
        "colab": {
          "base_uri": "https://localhost:8080/"
        },
        "id": "fcLJ2IAXfyfX",
        "outputId": "b07399c0-1193-4851-ec4b-6bbac39e206a"
      },
      "execution_count": 50,
      "outputs": [
        {
          "name": "stdout",
          "output_type": "stream",
          "text": [
            "Ingrese el número de días: 15\n"
          ]
        }
      ]
    },
    {
      "cell_type": "code",
      "source": [
        "#Calcular los segundos\n",
        "segundos=dias*24*60*60"
      ],
      "metadata": {
        "id": "TlrCP-y2f_HX"
      },
      "execution_count": 51,
      "outputs": []
    },
    {
      "cell_type": "code",
      "source": [
        "#imprimir la cantidad de segundos\n",
        "print(f\"Hay {segundos} segundos en {dias} días\")"
      ],
      "metadata": {
        "colab": {
          "base_uri": "https://localhost:8080/"
        },
        "id": "uj9axCwPgG7f",
        "outputId": "ec8ce249-f42c-444a-de9b-e1f0b567026e"
      },
      "execution_count": 52,
      "outputs": [
        {
          "output_type": "stream",
          "name": "stdout",
          "text": [
            "Hay 1296000 segundos en 15 días\n"
          ]
        }
      ]
    },
    {
      "cell_type": "markdown",
      "source": [
        "Área de un triángulo con tres lados"
      ],
      "metadata": {
        "id": "q8HH6oaggbvP"
      }
    },
    {
      "cell_type": "code",
      "source": [
        "#Solicitar los tres lados de un triángulo\n",
        "lado1=float(input(\"Ingrese el primer lado del triángulo: \"))\n",
        "lado2=float(input(\"Ingrese el segundo lado del triángulo: \"))\n",
        "lado3=float(input(\"Ingrese el tercer lado del triángulo: \"))"
      ],
      "metadata": {
        "colab": {
          "base_uri": "https://localhost:8080/"
        },
        "id": "Nk85ExbGgl5-",
        "outputId": "6520c4e8-4f0e-4c00-c253-c0ea1666de74"
      },
      "execution_count": 53,
      "outputs": [
        {
          "name": "stdout",
          "output_type": "stream",
          "text": [
            "Ingrese el primer lado del triángulo: 6\n",
            "Ingrese el segundo lado del triángulo: 7\n",
            "Ingrese el tercer lado del triángulo: 6\n"
          ]
        }
      ]
    },
    {
      "cell_type": "code",
      "source": [
        "#Calcular el semiperímetro\n",
        "s=(lado1+lado2+lado3)/2"
      ],
      "metadata": {
        "id": "9woFN1YchD7m"
      },
      "execution_count": 54,
      "outputs": []
    },
    {
      "cell_type": "code",
      "source": [
        "#Calcular el área con la dormulade Herón\n",
        "area=(s*(s-lado1)*(s-lado2)*(s-lado3))**0.5"
      ],
      "metadata": {
        "id": "r4u0KuXrhPRG"
      },
      "execution_count": 55,
      "outputs": []
    },
    {
      "cell_type": "code",
      "source": [
        "#imprimir el área del triangulo\n",
        "print(f\"El área del triángulo es {area}\")"
      ],
      "metadata": {
        "colab": {
          "base_uri": "https://localhost:8080/"
        },
        "id": "WnDq-nXehvwt",
        "outputId": "9d339ac0-ef9d-4031-f976-a81b24d23624"
      },
      "execution_count": 56,
      "outputs": [
        {
          "output_type": "stream",
          "name": "stdout",
          "text": [
            "El área del triángulo es 17.056890103415686\n"
          ]
        }
      ]
    }
  ]
}