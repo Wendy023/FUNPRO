{
  "nbformat": 4,
  "nbformat_minor": 0,
  "metadata": {
    "colab": {
      "provenance": []
    },
    "kernelspec": {
      "name": "python3",
      "display_name": "Python 3"
    },
    "language_info": {
      "name": "python"
    }
  },
  "cells": [
    {
      "cell_type": "markdown",
      "source": [
        "Distancia entre dos puntos"
      ],
      "metadata": {
        "id": "W0C5vh82gdNu"
      }
    },
    {
      "cell_type": "code",
      "source": [
        "#Solicitar las cordenadas de P1\n",
        "x1 = float(input(\"Ingrese la coordenada x del punto P1: \"))\n",
        "y1 = float(input(\"Ingrese la coordenada y del punto P1: \"))"
      ],
      "metadata": {
        "colab": {
          "base_uri": "https://localhost:8080/"
        },
        "id": "97IPqK78hXOo",
        "outputId": "227f3de4-a0ea-49c2-867c-8c4a3d980f2f"
      },
      "execution_count": 2,
      "outputs": [
        {
          "name": "stdout",
          "output_type": "stream",
          "text": [
            "Ingrese la coordenada x del punto P1: 1.5\n",
            "Ingrese la coordenada y del punto P1: 5\n"
          ]
        }
      ]
    },
    {
      "cell_type": "code",
      "source": [
        "#Solicitar las cordenadas del P2\n",
        "x2 = float(input(\"Ingrese la coordenada x del punto P2: \"))\n",
        "y2 = float(input(\"Ingrese la coordenada y del punto P2: \"))"
      ],
      "metadata": {
        "colab": {
          "base_uri": "https://localhost:8080/"
        },
        "id": "B6qYHEb9ht42",
        "outputId": "216ae83b-7f6d-4856-cbda-2a5f2049c898"
      },
      "execution_count": 3,
      "outputs": [
        {
          "name": "stdout",
          "output_type": "stream",
          "text": [
            "Ingrese la coordenada x del punto P2: 3\n",
            "Ingrese la coordenada y del punto P2: 5\n"
          ]
        }
      ]
    },
    {
      "cell_type": "code",
      "source": [
        "#Calcular la distancia\n",
        "distancia = ((x1 - x2)**2 + (y1 - y2)**2)**0.5"
      ],
      "metadata": {
        "id": "YMsn39HWh4cl"
      },
      "execution_count": 4,
      "outputs": []
    },
    {
      "cell_type": "code",
      "source": [
        "#Imprimir distancia\n",
        "print(\"La distancia entre los puntos P1 y P2 es:\", distancia)"
      ],
      "metadata": {
        "colab": {
          "base_uri": "https://localhost:8080/"
        },
        "id": "uOmBKhIgizH3",
        "outputId": "7c03645b-282d-4be3-c20a-06b604028b2b"
      },
      "execution_count": 5,
      "outputs": [
        {
          "output_type": "stream",
          "name": "stdout",
          "text": [
            "La distancia entre los puntos P1 y P2 es: 1.5\n"
          ]
        }
      ]
    }
  ]
}